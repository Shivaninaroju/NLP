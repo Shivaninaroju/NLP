{
 "cells": [
  {
   "cell_type": "markdown",
   "id": "34268aab",
   "metadata": {},
   "source": [
    "Word2Vec Implementation"
   ]
  },
  {
   "cell_type": "code",
   "execution_count": 3,
   "id": "a1f3fd3c",
   "metadata": {},
   "outputs": [
    {
     "name": "stdout",
     "output_type": "stream",
     "text": [
      "Requirement already satisfied: gensim in c:\\users\\shivani\\downloads\\github\\nlp\\my_env\\lib\\site-packages (4.3.3)\n",
      "Requirement already satisfied: numpy<2.0,>=1.18.5 in c:\\users\\shivani\\downloads\\github\\nlp\\my_env\\lib\\site-packages (from gensim) (1.26.4)\n",
      "Requirement already satisfied: scipy<1.14.0,>=1.7.0 in c:\\users\\shivani\\downloads\\github\\nlp\\my_env\\lib\\site-packages (from gensim) (1.13.1)\n",
      "Requirement already satisfied: smart-open>=1.8.1 in c:\\users\\shivani\\downloads\\github\\nlp\\my_env\\lib\\site-packages (from gensim) (7.3.0.post1)\n",
      "Requirement already satisfied: wrapt in c:\\users\\shivani\\downloads\\github\\nlp\\my_env\\lib\\site-packages (from smart-open>=1.8.1->gensim) (1.17.2)\n"
     ]
    }
   ],
   "source": [
    "!pip install gensim"
   ]
  },
  {
   "cell_type": "code",
   "execution_count": 4,
   "id": "d4a7cd9b",
   "metadata": {},
   "outputs": [],
   "source": [
    "import gensim"
   ]
  },
  {
   "cell_type": "markdown",
   "id": "d9c6bc0c",
   "metadata": {},
   "source": [
    "## References: https://stackoverflow.com/questions/46433778/import-googlenews-vectors-negative300-bin"
   ]
  },
  {
   "cell_type": "code",
   "execution_count": null,
   "id": "3bce0f9b",
   "metadata": {},
   "outputs": [],
   "source": [
    "import gensim.downloader as api\n",
    "#\n",
    "wv = api.load('word2vec-google-news-300')\n",
    "\n",
    "vec_king = wv['king']"
   ]
  },
  {
   "cell_type": "code",
   "execution_count": null,
   "id": "297e764e",
   "metadata": {},
   "outputs": [],
   "source": [
    "vec_king"
   ]
  },
  {
   "cell_type": "code",
   "execution_count": null,
   "id": "c515b162",
   "metadata": {},
   "outputs": [],
   "source": [
    "\n",
    "vec_king.shape"
   ]
  },
  {
   "cell_type": "code",
   "execution_count": null,
   "id": "096efc4d",
   "metadata": {},
   "outputs": [],
   "source": [
    "wv['cricket']"
   ]
  }
 ],
 "metadata": {
  "kernelspec": {
   "display_name": "Python (my_env)",
   "language": "python",
   "name": "my_env"
  },
  "language_info": {
   "codemirror_mode": {
    "name": "ipython",
    "version": 3
   },
   "file_extension": ".py",
   "mimetype": "text/x-python",
   "name": "python",
   "nbconvert_exporter": "python",
   "pygments_lexer": "ipython3",
   "version": "3.10.18"
  }
 },
 "nbformat": 4,
 "nbformat_minor": 5
}
