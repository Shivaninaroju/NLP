{
 "cells": [
  {
   "cell_type": "markdown",
   "id": "7923a3ea",
   "metadata": {},
   "source": [
    "N-Grams"
   ]
  },
  {
   "cell_type": "code",
   "execution_count": null,
   "id": "8386dedf",
   "metadata": {},
   "outputs": [],
   "source": [
    "# Create the Bag OF Words model\n",
    "from sklearn.feature_extraction.text import CountVectorizer\n",
    "# for Binary BOW enable binary=True\n",
    "#Max features defines the no.of top unique words(vocabulary)\n",
    "cv=CountVectorizer(max_features=200,binary=True,ngram_range=(1,1))"
   ]
  },
  {
   "cell_type": "code",
   "execution_count": null,
   "id": "03891a67",
   "metadata": {},
   "outputs": [],
   "source": [
    "X=cv.fit_transform()"
   ]
  }
 ],
 "metadata": {
  "kernelspec": {
   "display_name": "Python (my_env)",
   "language": "python",
   "name": "my_env"
  },
  "language_info": {
   "codemirror_mode": {
    "name": "ipython",
    "version": 3
   },
   "file_extension": ".py",
   "mimetype": "text/x-python",
   "name": "python",
   "nbconvert_exporter": "python",
   "pygments_lexer": "ipython3",
   "version": "3.10.18"
  }
 },
 "nbformat": 4,
 "nbformat_minor": 5
}
