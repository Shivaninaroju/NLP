{
 "cells": [
  {
   "cell_type": "markdown",
   "id": "b9d55c7e",
   "metadata": {},
   "source": [
    "STEMMING"
   ]
  },
  {
   "cell_type": "code",
   "execution_count": 2,
   "id": "108b31fc",
   "metadata": {},
   "outputs": [],
   "source": [
    "words=[\"eat\",\"eating\",\"eaten\",\"programming\",\"programs\"]"
   ]
  },
  {
   "cell_type": "code",
   "execution_count": 3,
   "id": "08a9c30b",
   "metadata": {},
   "outputs": [],
   "source": [
    "from nltk.stem import PorterStemmer"
   ]
  },
  {
   "cell_type": "code",
   "execution_count": 4,
   "id": "86db16f1",
   "metadata": {},
   "outputs": [],
   "source": [
    "#PorterStemmer\n",
    "stemmer=PorterStemmer()"
   ]
  },
  {
   "cell_type": "code",
   "execution_count": 5,
   "id": "75b4be18",
   "metadata": {},
   "outputs": [
    {
     "name": "stdout",
     "output_type": "stream",
     "text": [
      "eat ---> eat\n",
      "eating ---> eat\n",
      "eaten ---> eaten\n",
      "programming ---> program\n",
      "programs ---> program\n"
     ]
    }
   ],
   "source": [
    "for word in words:\n",
    "    print(word,\"--->\",stemmer.stem(word))"
   ]
  },
  {
   "cell_type": "code",
   "execution_count": 6,
   "id": "844d80fc",
   "metadata": {},
   "outputs": [
    {
     "name": "stdout",
     "output_type": "stream",
     "text": [
      "histori\n",
      "ran\n",
      "run\n",
      "congratul\n",
      "congratul\n",
      "univers\n",
      "univers\n"
     ]
    }
   ],
   "source": [
    "#Disadavantage-overstemming(eg:univers),understemming(eg:ran,run) and output stems are not always valid words(eg:histori).\n",
    "lst=[\"History\",\"ran\",\"run\",\"congratulations\",\"congratulated\",\"universe\",\"university\"]\n",
    "stemmer=PorterStemmer()\n",
    "for i in lst:\n",
    "   print(stemmer.stem(i))\n"
   ]
  },
  {
   "cell_type": "code",
   "execution_count": 7,
   "id": "295decdb",
   "metadata": {},
   "outputs": [],
   "source": [
    "#Regular Expression Stemmer Class\n",
    "from nltk.stem import RegexpStemmer\n",
    "\n"
   ]
  },
  {
   "cell_type": "code",
   "execution_count": 8,
   "id": "0aa2d92e",
   "metadata": {},
   "outputs": [],
   "source": [
    "reg=RegexpStemmer(\"ing|e$|able$\",min=4)"
   ]
  },
  {
   "cell_type": "code",
   "execution_count": 9,
   "id": "355b7af4",
   "metadata": {},
   "outputs": [
    {
     "data": {
      "text/plain": [
       "'eat'"
      ]
     },
     "execution_count": 9,
     "metadata": {},
     "output_type": "execute_result"
    }
   ],
   "source": [
    "reg.stem(\"eating\")"
   ]
  },
  {
   "cell_type": "code",
   "execution_count": 10,
   "id": "2835fdb9",
   "metadata": {},
   "outputs": [
    {
     "data": {
      "text/plain": [
       "'eat'"
      ]
     },
     "execution_count": 10,
     "metadata": {},
     "output_type": "execute_result"
    }
   ],
   "source": [
    "reg.stem(\"ingeating\")"
   ]
  },
  {
   "cell_type": "markdown",
   "id": "90c282e2",
   "metadata": {},
   "source": [
    "SnowBallsstemmer"
   ]
  },
  {
   "cell_type": "code",
   "execution_count": 22,
   "id": "b0a36b6d",
   "metadata": {},
   "outputs": [],
   "source": [
    "from nltk.stem import SnowballStemmer"
   ]
  },
  {
   "cell_type": "code",
   "execution_count": 25,
   "id": "f8bd9bd2",
   "metadata": {},
   "outputs": [],
   "source": [
    "snowballstemmer=SnowballStemmer('english')\n"
   ]
  },
  {
   "cell_type": "code",
   "execution_count": 33,
   "id": "b7f98b87",
   "metadata": {},
   "outputs": [
    {
     "name": "stdout",
     "output_type": "stream",
     "text": [
      "fair , sport\n",
      "fairli , sportingli\n"
     ]
    }
   ],
   "source": [
    "print(snowballstemmer.stem(\"Fairly\"),\",\",snowballstemmer.stem(\"Sportingly\")),#Snowballstemmer\n",
    "print(stemmer.stem(\"Fairly\"),\",\",stemmer.stem(\"Sportingly\"))#porter stemmer"
   ]
  },
  {
   "cell_type": "code",
   "execution_count": null,
   "id": "a614667e",
   "metadata": {},
   "outputs": [
    {
     "data": {
      "text/plain": [
       "'histori'"
      ]
     },
     "execution_count": 34,
     "metadata": {},
     "output_type": "execute_result"
    }
   ],
   "source": [
    "#Even snowballstemmer is not always valid in some cases so we use Lemmatization\n",
    "snowballstemmer.stem(\"history\") "
   ]
  }
 ],
 "metadata": {
  "kernelspec": {
   "display_name": "Python 3",
   "language": "python",
   "name": "python3"
  },
  "language_info": {
   "codemirror_mode": {
    "name": "ipython",
    "version": 3
   },
   "file_extension": ".py",
   "mimetype": "text/x-python",
   "name": "python",
   "nbconvert_exporter": "python",
   "pygments_lexer": "ipython3",
   "version": "3.10.18"
  }
 },
 "nbformat": 4,
 "nbformat_minor": 5
}
