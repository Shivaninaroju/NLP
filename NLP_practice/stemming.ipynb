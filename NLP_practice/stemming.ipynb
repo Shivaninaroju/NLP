{
 "cells": [
  {
   "cell_type": "markdown",
   "id": "b9d55c7e",
   "metadata": {},
   "source": [
    "STEMMING"
   ]
  },
  {
   "cell_type": "code",
   "execution_count": 10,
   "id": "108b31fc",
   "metadata": {},
   "outputs": [],
   "source": [
    "words=[\"eat\",\"eating\",\"eaten\",\"programming\",\"programs\"]"
   ]
  },
  {
   "cell_type": "code",
   "execution_count": 2,
   "id": "08a9c30b",
   "metadata": {},
   "outputs": [],
   "source": [
    "from nltk.stem import PorterStemmer"
   ]
  },
  {
   "cell_type": "code",
   "execution_count": 5,
   "id": "86db16f1",
   "metadata": {},
   "outputs": [],
   "source": [
    "#PorterStemmer\n",
    "stemmer=PorterStemmer()"
   ]
  },
  {
   "cell_type": "code",
   "execution_count": 11,
   "id": "75b4be18",
   "metadata": {},
   "outputs": [
    {
     "name": "stdout",
     "output_type": "stream",
     "text": [
      "eat ---> eat\n",
      "eating ---> eat\n",
      "eaten ---> eaten\n",
      "programming ---> program\n",
      "programs ---> program\n"
     ]
    }
   ],
   "source": [
    "for word in words:\n",
    "    print(word,\"--->\",stemmer.stem(word))"
   ]
  },
  {
   "cell_type": "code",
   "execution_count": 22,
   "id": "844d80fc",
   "metadata": {},
   "outputs": [
    {
     "name": "stdout",
     "output_type": "stream",
     "text": [
      "histori\n",
      "ran\n",
      "run\n",
      "congratul\n",
      "congratul\n",
      "univers\n",
      "univers\n"
     ]
    }
   ],
   "source": [
    "#Disadavantage-overstemming(eg:univers),understemming(eg:ran,run) and output stems are not always valid words(eg:histori).\n",
    "lst=[\"History\",\"ran\",\"run\",\"congratulations\",\"congratulated\",\"universe\",\"university\"]\n",
    "stemmer=PorterStemmer()\n",
    "for i in lst:\n",
    "   print(stemmer.stem(i))\n"
   ]
  },
  {
   "cell_type": "code",
   "execution_count": null,
   "id": "295decdb",
   "metadata": {},
   "outputs": [],
   "source": [
    "#Regular Expression Stemmer Class\n",
    "from nltk.stem import RegexpStemmer\n",
    "\n"
   ]
  },
  {
   "cell_type": "code",
   "execution_count": 29,
   "id": "0aa2d92e",
   "metadata": {},
   "outputs": [],
   "source": [
    "reg=RegexpStemmer(\"ing|e$|able$\",min=4)"
   ]
  },
  {
   "cell_type": "code",
   "execution_count": 26,
   "id": "355b7af4",
   "metadata": {},
   "outputs": [
    {
     "data": {
      "text/plain": [
       "'eat'"
      ]
     },
     "execution_count": 26,
     "metadata": {},
     "output_type": "execute_result"
    }
   ],
   "source": [
    "reg.stem(\"eating\")"
   ]
  },
  {
   "cell_type": "code",
   "execution_count": 30,
   "id": "2835fdb9",
   "metadata": {},
   "outputs": [
    {
     "data": {
      "text/plain": [
       "'eat'"
      ]
     },
     "execution_count": 30,
     "metadata": {},
     "output_type": "execute_result"
    }
   ],
   "source": [
    "reg.stem(\"ingeating\")"
   ]
  },
  {
   "cell_type": "markdown",
   "id": "90c282e2",
   "metadata": {},
   "source": [
    "SnowBallsstemmer"
   ]
  }
 ],
 "metadata": {
  "kernelspec": {
   "display_name": "Python 3",
   "language": "python",
   "name": "python3"
  },
  "language_info": {
   "codemirror_mode": {
    "name": "ipython",
    "version": 3
   },
   "file_extension": ".py",
   "mimetype": "text/x-python",
   "name": "python",
   "nbconvert_exporter": "python",
   "pygments_lexer": "ipython3",
   "version": "3.10.18"
  }
 },
 "nbformat": 4,
 "nbformat_minor": 5
}
