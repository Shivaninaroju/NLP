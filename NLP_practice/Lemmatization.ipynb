{

 "cells": [
  {
   "cell_type": "markdown",
   "id": "37c6fd7d",
   "metadata": {},
   "source": [
    "Lemmatization"
   ]
  },
  {
   "cell_type": "code",
   "execution_count": null,
   "id": "b89465c8",
   "metadata": {},
   "outputs": [
    {
     "name": "stderr",
     "output_type": "stream",
     "text": [
      "[nltk_data] Downloading package wordnet to\n",
      "[nltk_data]     C:\\Users\\SHIVANI\\AppData\\Roaming\\nltk_data...\n",
      "[nltk_data]   Package wordnet is already up-to-date!\n"
     ]
    },
    {
     "data": {
      "text/plain": [
       "True"
      ]
     },
     "execution_count": 16,
     "metadata": {},
     "output_type": "execute_result"
    }
   ],
   "source": [
    "\n",
    "import nltk\n",
    "nltk.download('wordnet')\n"
   ]
  },
  {
   "cell_type": "code",
   "execution_count": 17,
   "id": "0193d0fe",
   "metadata": {},
   "outputs": [],
   "source": [
    "from nltk.stem import WordNetLemmatizer"
   ]
  },
  {
   "cell_type": "code",
   "execution_count": 18,
   "id": "7ed3ac06",
   "metadata": {},
   "outputs": [],
   "source": [
    "lemmatizer=WordNetLemmatizer()"
   ]
  },
  {
   "cell_type": "code",
   "execution_count": 19,
   "id": "90c0e189",
   "metadata": {},
   "outputs": [
    {
     "name": "stdout",
     "output_type": "stream",
     "text": [
      "going\n",
      "go\n"
     ]
    }
   ],
   "source": [
    "''' pos:\n",
    "noun-n,\n",
    "verb-v,\n",
    "adjective-a,\n",
    "adverb-r\n",
    "'''\n",
    "print(lemmatizer.lemmatize('going',pos='n'))#noun\n",
    "print(lemmatizer.lemmatize('going',pos='v')) #verb"
   ]
  },
  {
   "cell_type": "code",
   "execution_count": 20,
   "id": "51fe9fdc",
   "metadata": {},
   "outputs": [],
   "source": [
    "words=[\"eat\",\"eating\",\"eaten\",\"programming\",\"programs\"]"
   ]
  },
  {
   "cell_type": "code",
   "execution_count": 21,
   "id": "22fbeae3",
   "metadata": {},
   "outputs": [
    {
     "name": "stdout",
     "output_type": "stream",
     "text": [
      "eat ---> eat\n",
      "eating ---> eat\n",
      "eaten ---> eat\n",
      "programming ---> program\n",
      "programs ---> program\n"
     ]
    }
   ],
   "source": [
    "for word in words:\n",
    "    print(word,\"--->\",lemmatizer.lemmatize(word,pos='v'))"
   ]
  },
  {
   "cell_type": "code",
   "execution_count": 24,
   "id": "a4ded2e9",
   "metadata": {},
   "outputs": [
    {
     "name": "stdout",
     "output_type": "stream",
     "text": [
      "history\n"
     ]
    }
   ],
   "source": [
    "print(lemmatizer.lemmatize('history',pos='n'))"
   ]
  }
 ],
 "metadata": {
  "kernelspec": {
   "display_name": "Python 3",
   "language": "python",
   "name": "python3"
  },
  "language_info": {
   "codemirror_mode": {
    "name": "ipython",
    "version": 3
   },
   "file_extension": ".py",
   "mimetype": "text/x-python",
   "name": "python",
   "nbconvert_exporter": "python",
   "pygments_lexer": "ipython3",
   "version": "3.10.18"
  }
 },
 "nbformat": 4,
 "nbformat_minor": 5
}
