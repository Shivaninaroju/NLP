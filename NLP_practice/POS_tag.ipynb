{
 "cells": [
  {
   "cell_type": "code",
   "execution_count": 3,
   "id": "a8512376",
   "metadata": {},
   "outputs": [],
   "source": [
    "paragraph='''Dr. Tejaswini Manogna is a remarkable Indian woman known for her multifaceted achievements as a doctor, classical dancer, yoga practitioner, and beauty queen. Born in Hyderabad in 1994, she earned her medical degree from Osmania Medical College. Early in life, she gained national recognition as the Best NCC Cadet and Best Shooter of India, representing the country at international events. Alongside her academic and military accomplishments, she is a professionally trained Bharatanatyam dancer, having performed both nationally and internationally, including a performance before former President A.P.J. Abdul Kalam. She is also a certified yoga instructor, integrating physical wellness and mental discipline into her daily life. In the world of pageantry, Tejaswini rose to fame as Miss Earth India 2019, representing the country at the international Miss Earth competition where she won several special awards. Beyond her titles and talents, she is a passionate advocate for environmental protection, child welfare, and women’s empowerment, making her a symbol of beauty with brains and purpose.'''"
   ]
  },
  {
   "cell_type": "code",
   "execution_count": 4,
   "id": "525a6bd6",
   "metadata": {},
   "outputs": [],
   "source": [
    "import nltk\n",
    "from nltk.corpus import stopwords\n",
    "sentences=nltk.sent_tokenize(paragraph)"
   ]
  },
  {
   "cell_type": "code",
   "execution_count": 5,
   "id": "b1953a84",
   "metadata": {},
   "outputs": [
    {
     "data": {
      "text/plain": [
       "['Dr. Tejaswini Manogna is a remarkable Indian woman known for her multifaceted achievements as a doctor, classical dancer, yoga practitioner, and beauty queen.',\n",
       " 'Born in Hyderabad in 1994, she earned her medical degree from Osmania Medical College.',\n",
       " 'Early in life, she gained national recognition as the Best NCC Cadet and Best Shooter of India, representing the country at international events.',\n",
       " 'Alongside her academic and military accomplishments, she is a professionally trained Bharatanatyam dancer, having performed both nationally and internationally, including a performance before former President A.P.J.',\n",
       " 'Abdul Kalam.',\n",
       " 'She is also a certified yoga instructor, integrating physical wellness and mental discipline into her daily life.',\n",
       " 'In the world of pageantry, Tejaswini rose to fame as Miss Earth India 2019, representing the country at the international Miss Earth competition where she won several special awards.',\n",
       " 'Beyond her titles and talents, she is a passionate advocate for environmental protection, child welfare, and women’s empowerment, making her a symbol of beauty with brains and purpose.']"
      ]
     },
     "execution_count": 5,
     "metadata": {},
     "output_type": "execute_result"
    }
   ],
   "source": [
    "sentences\n"
   ]
  },
  {
   "cell_type": "code",
   "execution_count": 6,
   "id": "2e75b124",
   "metadata": {},
   "outputs": [
    {
     "name": "stderr",
     "output_type": "stream",
     "text": [
      "[nltk_data] Downloading package averaged_perceptron_tagger_eng to\n",
      "[nltk_data]     C:\\Users\\SHIVANI\\AppData\\Roaming\\nltk_data...\n",
      "[nltk_data]   Package averaged_perceptron_tagger_eng is already up-to-\n",
      "[nltk_data]       date!\n"
     ]
    },
    {
     "data": {
      "text/plain": [
       "True"
      ]
     },
     "execution_count": 6,
     "metadata": {},
     "output_type": "execute_result"
    }
   ],
   "source": [
    "\n",
    "import nltk\n",
    "nltk.download('averaged_perceptron_tagger_eng')\n",
    "  "
   ]
  },
  {
   "cell_type": "code",
   "execution_count": null,
   "id": "5dfd6521",
   "metadata": {},
   "outputs": [
    {
     "name": "stdout",
     "output_type": "stream",
     "text": [
      "[('Dr.', 'NNP'), ('Tejaswini', 'NNP'), ('Manogna', 'NNP'), ('remarkable', 'JJ'), ('Indian', 'JJ'), ('woman', 'NN'), ('known', 'VBN'), ('multifaceted', 'JJ'), ('achievements', 'NNS'), ('doctor', 'NN'), (',', ','), ('classical', 'JJ'), ('dancer', 'NN'), (',', ','), ('yoga', 'NN'), ('practitioner', 'NN'), (',', ','), ('beauty', 'NN'), ('queen', 'NN'), ('.', '.')]\n",
      "[('Born', 'NNP'), ('Hyderabad', 'NNP'), ('1994', 'CD'), (',', ','), ('earned', 'VBD'), ('medical', 'JJ'), ('degree', 'NN'), ('Osmania', 'NNP'), ('Medical', 'NNP'), ('College', 'NNP'), ('.', '.')]\n",
      "[('Early', 'JJ'), ('life', 'NN'), (',', ','), ('gained', 'VBD'), ('national', 'JJ'), ('recognition', 'NN'), ('Best', 'NNP'), ('NCC', 'NNP'), ('Cadet', 'NNP'), ('Best', 'NNP'), ('Shooter', 'NNP'), ('India', 'NNP'), (',', ','), ('representing', 'VBG'), ('country', 'NN'), ('international', 'JJ'), ('events', 'NNS'), ('.', '.')]\n",
      "[('Alongside', 'RB'), ('academic', 'JJ'), ('military', 'JJ'), ('accomplishments', 'NNS'), (',', ','), ('professionally', 'RB'), ('trained', 'JJ'), ('Bharatanatyam', 'NNP'), ('dancer', 'NN'), (',', ','), ('performed', 'VBN'), ('nationally', 'RB'), ('internationally', 'RB'), (',', ','), ('including', 'VBG'), ('performance', 'NN'), ('former', 'JJ'), ('President', 'NNP'), ('A.P.J', 'NNP'), ('.', '.')]\n",
      "[('Abdul', 'NNP'), ('Kalam', 'NNP'), ('.', '.')]\n",
      "[('She', 'PRP'), ('also', 'RB'), ('certified', 'VBD'), ('yoga', 'JJ'), ('instructor', 'NN'), (',', ','), ('integrating', 'VBG'), ('physical', 'JJ'), ('wellness', 'NN'), ('mental', 'JJ'), ('discipline', 'NN'), ('daily', 'JJ'), ('life', 'NN'), ('.', '.')]\n",
      "[('In', 'IN'), ('world', 'NN'), ('pageantry', 'NN'), (',', ','), ('Tejaswini', 'NNP'), ('rose', 'VBD'), ('fame', 'JJ'), ('Miss', 'NNP'), ('Earth', 'NNP'), ('India', 'NNP'), ('2019', 'CD'), (',', ','), ('representing', 'VBG'), ('country', 'NN'), ('international', 'JJ'), ('Miss', 'NNP'), ('Earth', 'NNP'), ('competition', 'NN'), ('several', 'JJ'), ('special', 'JJ'), ('awards', 'NNS'), ('.', '.')]\n",
      "[('Beyond', 'IN'), ('titles', 'NNS'), ('talents', 'NNS'), (',', ','), ('passionate', 'NN'), ('advocate', 'NN'), ('environmental', 'JJ'), ('protection', 'NN'), (',', ','), ('child', 'NN'), ('welfare', 'NN'), (',', ','), ('women', 'NNS'), ('’', 'VBP'), ('empowerment', 'JJ'), (',', ','), ('making', 'VBG'), ('symbol', 'NN'), ('beauty', 'NN'), ('brains', 'NNS'), ('purpose', 'VBP'), ('.', '.')]\n"
     ]
    }
   ],
   "source": [
    "for i in range(len(sentences)):\n",
    "    words=nltk.word_tokenize(sentences[i])\n",
    "    words=[word for word in words if word not in set(stopwords.words('english'))]\n",
    "    pos_tag=nltk.pos_tag(words)\n",
    "    print(pos_tag)"
   ]
  },
  {
   "cell_type": "code",
   "execution_count": 8,
   "id": "ce2a14fa",
   "metadata": {},
   "outputs": [
    {
     "name": "stdout",
     "output_type": "stream",
     "text": [
      "[('World', 'NNP'), ('is', 'VBZ'), ('Beautiful', 'JJ')]\n"
     ]
    }
   ],
   "source": [
    "print(nltk.pos_tag((\"World is Beautiful\").split()))"
   ]
  }
 ],
 "metadata": {
  "kernelspec": {
   "display_name": "Python (my_env)",
   "language": "python",
   "name": "my_env"
  },
  "language_info": {
   "codemirror_mode": {
    "name": "ipython",
    "version": 3
   },
   "file_extension": ".py",
   "mimetype": "text/x-python",
   "name": "python",
   "nbconvert_exporter": "python",
   "pygments_lexer": "ipython3",
   "version": "3.10.18"
  }
 },
 "nbformat": 4,
 "nbformat_minor": 5
}
