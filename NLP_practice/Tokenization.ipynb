{
 "cells": [
  {
   "cell_type": "code",
   "execution_count": null,
   "id": "caf55c8e",
   "metadata": {},
   "outputs": [],
   "source": [
    "Tokenization"
   ]
  },
  {
   "cell_type": "code",
   "execution_count": 1,
   "id": "4f8d0ff0",
   "metadata": {},
   "outputs": [
    {
     "name": "stdout",
     "output_type": "stream",
     "text": [
      "Requirement already satisfied: nltk in c:\\users\\shivani\\downloads\\github\\nlp\\my_env\\lib\\site-packages (3.9.1)\n",
      "Requirement already satisfied: click in c:\\users\\shivani\\downloads\\github\\nlp\\my_env\\lib\\site-packages (from nltk) (8.2.1)\n",
      "Requirement already satisfied: joblib in c:\\users\\shivani\\downloads\\github\\nlp\\my_env\\lib\\site-packages (from nltk) (1.5.1)\n",
      "Requirement already satisfied: regex>=2021.8.3 in c:\\users\\shivani\\downloads\\github\\nlp\\my_env\\lib\\site-packages (from nltk) (2024.11.6)\n",
      "Requirement already satisfied: tqdm in c:\\users\\shivani\\downloads\\github\\nlp\\my_env\\lib\\site-packages (from nltk) (4.67.1)\n",
      "Requirement already satisfied: colorama in c:\\users\\shivani\\downloads\\github\\nlp\\my_env\\lib\\site-packages (from click->nltk) (0.4.6)\n"
     ]
    }
   ],
   "source": [
    "!pip install nltk\n"
   ]
  },
  {
   "cell_type": "code",
   "execution_count": 13,
   "id": "6ced43f2",
   "metadata": {},
   "outputs": [
    {
     "name": "stderr",
     "output_type": "stream",
     "text": [
      "[nltk_data] Downloading package punkt to\n",
      "[nltk_data]     C:\\Users\\SHIVANI\\AppData\\Roaming\\nltk_data...\n",
      "[nltk_data]   Package punkt is already up-to-date!\n",
      "[nltk_data] Downloading package punkt_tab to\n",
      "[nltk_data]     C:\\Users\\SHIVANI\\AppData\\Roaming\\nltk_data...\n",
      "[nltk_data]   Package punkt_tab is already up-to-date!\n"
     ]
    },
    {
     "data": {
      "text/plain": [
       "True"
      ]
     },
     "execution_count": 13,
     "metadata": {},
     "output_type": "execute_result"
    }
   ],
   "source": [
    "\n",
    "import nltk\n",
    "\n",
    "# Install the basic punkt tokenizer\n",
    "nltk.download(\"punkt\")\n",
    "\n",
    "# Some environments even require the newer punkt_tab resource\n",
    "nltk.download(\"punkt_tab\")"
   ]
  },
  {
   "cell_type": "code",
   "execution_count": 14,
   "id": "b8dac744",
   "metadata": {},
   "outputs": [],
   "source": [
    "from nltk.tokenize import sent_tokenize"
   ]
  },
  {
   "cell_type": "code",
   "execution_count": 31,
   "id": "d2729af1",
   "metadata": {},
   "outputs": [
    {
     "name": "stdout",
     "output_type": "stream",
     "text": [
      "Myself Shivani and i have interest in learning ML,DL,NLP.I am also a college student! Shivani's hobby is listening to music.\n"
     ]
    }
   ],
   "source": [
    "\n",
    "##Tokenization\n",
    "corpus='''Myself Shivani and i have interest in learning ML,DL,NLP.I am also a college student! Shivani's hobby is listening to music.''' \n",
    "print(corpus)"
   ]
  },
  {
   "cell_type": "code",
   "execution_count": 32,
   "id": "a0211764",
   "metadata": {},
   "outputs": [
    {
     "name": "stdout",
     "output_type": "stream",
     "text": [
      "['Myself Shivani and i have interest in learning ML,DL,NLP.I am also a college student!', \"Shivani's hobby is listening to music.\"]\n"
     ]
    }
   ],
   "source": [
    "#paragraph---->sentences(Sentence Tokenization)\n",
    "documents=sent_tokenize(corpus)\n",
    "print(documents)"
   ]
  },
  {
   "cell_type": "code",
   "execution_count": 27,
   "id": "0b65d5f2",
   "metadata": {},
   "outputs": [
    {
     "name": "stdout",
     "output_type": "stream",
     "text": [
      "Myself Shivani and i have interest in learning ML,DL,NLP.\n",
      "I am also a college student!.Shivani's hobby is listening to music.\n"
     ]
    }
   ],
   "source": [
    "for senttokens in documents:\n",
    "    print(senttokens)"
   ]
  },
  {
   "cell_type": "code",
   "execution_count": 18,
   "id": "0aaf497f",
   "metadata": {},
   "outputs": [],
   "source": [
    "#paragraph--->words\n",
    "#sentences--->words(word tokenization)\n",
    "from nltk.tokenize import word_tokenize\n"
   ]
  },
  {
   "cell_type": "code",
   "execution_count": 19,
   "id": "f777765d",
   "metadata": {},
   "outputs": [
    {
     "data": {
      "text/plain": [
       "['Myself',\n",
       " 'Shivani',\n",
       " 'and',\n",
       " 'i',\n",
       " 'have',\n",
       " 'interest',\n",
       " 'in',\n",
       " 'learning',\n",
       " 'ML',\n",
       " ',',\n",
       " 'DL',\n",
       " ',',\n",
       " 'NLP',\n",
       " '.',\n",
       " 'I',\n",
       " 'am',\n",
       " 'also',\n",
       " 'a',\n",
       " 'college',\n",
       " 'student.Shivani',\n",
       " \"'s\",\n",
       " 'hobby',\n",
       " 'is',\n",
       " 'listening',\n",
       " 'to',\n",
       " 'music',\n",
       " '.']"
      ]
     },
     "execution_count": 19,
     "metadata": {},
     "output_type": "execute_result"
    }
   ],
   "source": [
    "word_tokenize(corpus)\n"
   ]
  },
  {
   "cell_type": "code",
   "execution_count": 20,
   "id": "e7b22aa1",
   "metadata": {},
   "outputs": [
    {
     "data": {
      "text/plain": [
       "['I',\n",
       " 'am',\n",
       " 'also',\n",
       " 'a',\n",
       " 'college',\n",
       " 'student.Shivani',\n",
       " \"'s\",\n",
       " 'hobby',\n",
       " 'is',\n",
       " 'listening',\n",
       " 'to',\n",
       " 'music',\n",
       " '.']"
      ]
     },
     "execution_count": 20,
     "metadata": {},
     "output_type": "execute_result"
    }
   ],
   "source": [
    "word_tokenize(senttokens)"
   ]
  },
  {
   "cell_type": "code",
   "execution_count": 21,
   "id": "16c0dc42",
   "metadata": {},
   "outputs": [
    {
     "name": "stdout",
     "output_type": "stream",
     "text": [
      "['Myself', 'Shivani', 'and', 'i', 'have', 'interest', 'in', 'learning', 'ML', ',', 'DL', ',', 'NLP', '.']\n",
      "['I', 'am', 'also', 'a', 'college', 'student.Shivani', \"'s\", 'hobby', 'is', 'listening', 'to', 'music', '.']\n"
     ]
    }
   ],
   "source": [
    "for wordtokens in documents:\n",
    "    print(word_tokenize(wordtokens))"
   ]
  },
  {
   "cell_type": "code",
   "execution_count": 22,
   "id": "aa2b522f",
   "metadata": {},
   "outputs": [
    {
     "data": {
      "text/plain": [
       "['Myself',\n",
       " 'Shivani',\n",
       " 'and',\n",
       " 'i',\n",
       " 'have',\n",
       " 'interest',\n",
       " 'in',\n",
       " 'learning',\n",
       " 'ML',\n",
       " ',',\n",
       " 'DL',\n",
       " ',',\n",
       " 'NLP',\n",
       " '.',\n",
       " 'I',\n",
       " 'am',\n",
       " 'also',\n",
       " 'a',\n",
       " 'college',\n",
       " 'student',\n",
       " '.',\n",
       " 'Shivani',\n",
       " \"'\",\n",
       " 's',\n",
       " 'hobby',\n",
       " 'is',\n",
       " 'listening',\n",
       " 'to',\n",
       " 'music',\n",
       " '.']"
      ]
     },
     "execution_count": 22,
     "metadata": {},
     "output_type": "execute_result"
    }
   ],
   "source": [
    "#Wordpunct-Splits \"don't\" into [\"don\", \"'\", \"t\"] — each part separated unlike word tokenize--->\"do\",\"nt\"\n",
    "from nltk.tokenize import wordpunct_tokenize \n",
    "wordpunct_tokenize(corpus)"
   ]
  },
  {
   "cell_type": "code",
   "execution_count": 23,
   "id": "5a9670b0",
   "metadata": {},
   "outputs": [
    {
     "name": "stdout",
     "output_type": "stream",
     "text": [
      "['do', \"n't\", 'play']\n",
      "['don', \"'\", 't', 'play']\n"
     ]
    }
   ],
   "source": [
    "corpus1=\"don't play \"\n",
    "print(word_tokenize(corpus1))\n",
    "print(wordpunct_tokenize(corpus1))"
   ]
  },
  {
   "cell_type": "code",
   "execution_count": 24,
   "id": "c19a0af9",
   "metadata": {},
   "outputs": [
    {
     "data": {
      "text/plain": [
       "['Myself',\n",
       " 'Shivani',\n",
       " 'and',\n",
       " 'i',\n",
       " 'have',\n",
       " 'interest',\n",
       " 'in',\n",
       " 'learning',\n",
       " 'ML',\n",
       " ',',\n",
       " 'DL',\n",
       " ',',\n",
       " 'NLP.',\n",
       " 'I',\n",
       " 'am',\n",
       " 'also',\n",
       " 'a',\n",
       " 'college',\n",
       " 'student.Shivani',\n",
       " \"'s\",\n",
       " 'hobby',\n",
       " 'is',\n",
       " 'listening',\n",
       " 'to',\n",
       " 'music',\n",
       " '.']"
      ]
     },
     "execution_count": 24,
     "metadata": {},
     "output_type": "execute_result"
    }
   ],
   "source": [
    "from nltk.tokenize import TreebankWordTokenizer\n",
    "tokenizer=TreebankWordTokenizer()\n",
    "tokenizer.tokenize(corpus)\n"
   ]
  }
 ],
 "metadata": {
  "kernelspec": {
   "display_name": "Python 3",
   "language": "python",
   "name": "python3"
  },
  "language_info": {
   "codemirror_mode": {
    "name": "ipython",
    "version": 3
   },
   "file_extension": ".py",
   "mimetype": "text/x-python",
   "name": "python",
   "nbconvert_exporter": "python",
   "pygments_lexer": "ipython3",
   "version": "3.10.18"
  }
 },
 "nbformat": 4,
 "nbformat_minor": 5
}
