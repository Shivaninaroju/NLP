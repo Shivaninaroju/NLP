{
 "cells": [
  {
   "cell_type": "markdown",
   "id": "c3ce603b",
   "metadata": {},
   "source": [
    "Stop Words"
   ]
  },
  {
   "cell_type": "code",
   "execution_count": 110,
   "id": "ae26dfe9",
   "metadata": {},
   "outputs": [],
   "source": [
    "paragraph='''Dr. Tejaswini Manogna is a remarkable Indian woman known for her multifaceted achievements as a doctor, classical dancer, yoga practitioner, and beauty queen. Born in Hyderabad in 1994, she earned her medical degree from Osmania Medical College. Early in life, she gained national recognition as the Best NCC Cadet and Best Shooter of India, representing the country at international events. Alongside her academic and military accomplishments, she is a professionally trained Bharatanatyam dancer, having performed both nationally and internationally, including a performance before former President A.P.J. Abdul Kalam. She is also a certified yoga instructor, integrating physical wellness and mental discipline into her daily life. In the world of pageantry, Tejaswini rose to fame as Miss Earth India 2019, representing the country at the international Miss Earth competition where she won several special awards. Beyond her titles and talents, she is a passionate advocate for environmental protection, child welfare, and women’s empowerment, making her a symbol of beauty with brains and purpose.'''"
   ]
  },
  {
   "cell_type": "code",
   "execution_count": 111,
   "id": "06302a56",
   "metadata": {},
   "outputs": [
    {
     "name": "stderr",
     "output_type": "stream",
     "text": [
      "[nltk_data] Downloading package stopwords to\n",
      "[nltk_data]     C:\\Users\\SHIVANI\\AppData\\Roaming\\nltk_data...\n",
      "[nltk_data]   Package stopwords is already up-to-date!\n"
     ]
    },
    {
     "data": {
      "text/plain": [
       "True"
      ]
     },
     "execution_count": 111,
     "metadata": {},
     "output_type": "execute_result"
    }
   ],
   "source": [
    "from nltk.stem import PorterStemmer\n",
    "from nltk.corpus import stopwords\n",
    "import nltk\n",
    "nltk.download('stopwords')"
   ]
  },
  {
   "cell_type": "code",
   "execution_count": null,
   "id": "c747e3ae",
   "metadata": {},
   "outputs": [
    {
     "data": {
      "text/plain": [
       "['a',\n",
       " 'about',\n",
       " 'above',\n",
       " 'after',\n",
       " 'again',\n",
       " 'against',\n",
       " 'ain',\n",
       " 'all',\n",
       " 'am',\n",
       " 'an',\n",
       " 'and',\n",
       " 'any',\n",
       " 'are',\n",
       " 'aren',\n",
       " \"aren't\",\n",
       " 'as',\n",
       " 'at',\n",
       " 'be',\n",
       " 'because',\n",
       " 'been',\n",
       " 'before',\n",
       " 'being',\n",
       " 'below',\n",
       " 'between',\n",
       " 'both',\n",
       " 'but',\n",
       " 'by',\n",
       " 'can',\n",
       " 'couldn',\n",
       " \"couldn't\",\n",
       " 'd',\n",
       " 'did',\n",
       " 'didn',\n",
       " \"didn't\",\n",
       " 'do',\n",
       " 'does',\n",
       " 'doesn',\n",
       " \"doesn't\",\n",
       " 'doing',\n",
       " 'don',\n",
       " \"don't\",\n",
       " 'down',\n",
       " 'during',\n",
       " 'each',\n",
       " 'few',\n",
       " 'for',\n",
       " 'from',\n",
       " 'further',\n",
       " 'had',\n",
       " 'hadn',\n",
       " \"hadn't\",\n",
       " 'has',\n",
       " 'hasn',\n",
       " \"hasn't\",\n",
       " 'have',\n",
       " 'haven',\n",
       " \"haven't\",\n",
       " 'having',\n",
       " 'he',\n",
       " \"he'd\",\n",
       " \"he'll\",\n",
       " 'her',\n",
       " 'here',\n",
       " 'hers',\n",
       " 'herself',\n",
       " \"he's\",\n",
       " 'him',\n",
       " 'himself',\n",
       " 'his',\n",
       " 'how',\n",
       " 'i',\n",
       " \"i'd\",\n",
       " 'if',\n",
       " \"i'll\",\n",
       " \"i'm\",\n",
       " 'in',\n",
       " 'into',\n",
       " 'is',\n",
       " 'isn',\n",
       " \"isn't\",\n",
       " 'it',\n",
       " \"it'd\",\n",
       " \"it'll\",\n",
       " \"it's\",\n",
       " 'its',\n",
       " 'itself',\n",
       " \"i've\",\n",
       " 'just',\n",
       " 'll',\n",
       " 'm',\n",
       " 'ma',\n",
       " 'me',\n",
       " 'mightn',\n",
       " \"mightn't\",\n",
       " 'more',\n",
       " 'most',\n",
       " 'mustn',\n",
       " \"mustn't\",\n",
       " 'my',\n",
       " 'myself',\n",
       " 'needn',\n",
       " \"needn't\",\n",
       " 'no',\n",
       " 'nor',\n",
       " 'not',\n",
       " 'now',\n",
       " 'o',\n",
       " 'of',\n",
       " 'off',\n",
       " 'on',\n",
       " 'once',\n",
       " 'only',\n",
       " 'or',\n",
       " 'other',\n",
       " 'our',\n",
       " 'ours',\n",
       " 'ourselves',\n",
       " 'out',\n",
       " 'over',\n",
       " 'own',\n",
       " 're',\n",
       " 's',\n",
       " 'same',\n",
       " 'shan',\n",
       " \"shan't\",\n",
       " 'she',\n",
       " \"she'd\",\n",
       " \"she'll\",\n",
       " \"she's\",\n",
       " 'should',\n",
       " 'shouldn',\n",
       " \"shouldn't\",\n",
       " \"should've\",\n",
       " 'so',\n",
       " 'some',\n",
       " 'such',\n",
       " 't',\n",
       " 'than',\n",
       " 'that',\n",
       " \"that'll\",\n",
       " 'the',\n",
       " 'their',\n",
       " 'theirs',\n",
       " 'them',\n",
       " 'themselves',\n",
       " 'then',\n",
       " 'there',\n",
       " 'these',\n",
       " 'they',\n",
       " \"they'd\",\n",
       " \"they'll\",\n",
       " \"they're\",\n",
       " \"they've\",\n",
       " 'this',\n",
       " 'those',\n",
       " 'through',\n",
       " 'to',\n",
       " 'too',\n",
       " 'under',\n",
       " 'until',\n",
       " 'up',\n",
       " 've',\n",
       " 'very',\n",
       " 'was',\n",
       " 'wasn',\n",
       " \"wasn't\",\n",
       " 'we',\n",
       " \"we'd\",\n",
       " \"we'll\",\n",
       " \"we're\",\n",
       " 'were',\n",
       " 'weren',\n",
       " \"weren't\",\n",
       " \"we've\",\n",
       " 'what',\n",
       " 'when',\n",
       " 'where',\n",
       " 'which',\n",
       " 'while',\n",
       " 'who',\n",
       " 'whom',\n",
       " 'why',\n",
       " 'will',\n",
       " 'with',\n",
       " 'won',\n",
       " \"won't\",\n",
       " 'wouldn',\n",
       " \"wouldn't\",\n",
       " 'y',\n",
       " 'you',\n",
       " \"you'd\",\n",
       " \"you'll\",\n",
       " 'your',\n",
       " \"you're\",\n",
       " 'yours',\n",
       " 'yourself',\n",
       " 'yourselves',\n",
       " \"you've\"]"
      ]
     },
     "execution_count": 112,
     "metadata": {},
     "output_type": "execute_result"
    }
   ],
   "source": [
    "\n",
    "stopwords.words('english')"
   ]
  },
  {
   "cell_type": "code",
   "execution_count": 113,
   "id": "58ad081c",
   "metadata": {},
   "outputs": [],
   "source": [
    "from nltk.stem import PorterStemmer"
   ]
  },
  {
   "cell_type": "code",
   "execution_count": 114,
   "id": "91094cc7",
   "metadata": {},
   "outputs": [],
   "source": [
    "stemmer=PorterStemmer()"
   ]
  },
  {
   "cell_type": "code",
   "execution_count": 115,
   "id": "172aa8d1",
   "metadata": {},
   "outputs": [
    {
     "name": "stdout",
     "output_type": "stream",
     "text": [
      "['Dr. Tejaswini Manogna is a remarkable Indian woman known for her multifaceted achievements as a doctor, classical dancer, yoga practitioner, and beauty queen.', 'Born in Hyderabad in 1994, she earned her medical degree from Osmania Medical College.', 'Early in life, she gained national recognition as the Best NCC Cadet and Best Shooter of India, representing the country at international events.', 'Alongside her academic and military accomplishments, she is a professionally trained Bharatanatyam dancer, having performed both nationally and internationally, including a performance before former President A.P.J.', 'Abdul Kalam.', 'She is also a certified yoga instructor, integrating physical wellness and mental discipline into her daily life.', 'In the world of pageantry, Tejaswini rose to fame as Miss Earth India 2019, representing the country at the international Miss Earth competition where she won several special awards.', 'Beyond her titles and talents, she is a passionate advocate for environmental protection, child welfare, and women’s empowerment, making her a symbol of beauty with brains and purpose.']\n"
     ]
    }
   ],
   "source": [
    "sentences=nltk.sent_tokenize(paragraph)\n",
    "print(sentences)"
   ]
  },
  {
   "cell_type": "code",
   "execution_count": 116,
   "id": "8ad2cc14",
   "metadata": {},
   "outputs": [
    {
     "data": {
      "text/plain": [
       "\"for i in range(len(sentences)):\\n    words=nltk.word_tokenize(sentences[i])\\n    words=[stemmer.stem(word) for word in words if word not in set(stopwords.words('english'))]\\n    sentences[i]=' '.join(words)\""
      ]
     },
     "execution_count": 116,
     "metadata": {},
     "output_type": "execute_result"
    }
   ],
   "source": [
    "#Applying PorterStemmer\n",
    "'''for i in range(len(sentences)):\n",
    "    words=nltk.word_tokenize(sentences[i])\n",
    "    words=[stemmer.stem(word) for word in words if word not in set(stopwords.words('english'))]\n",
    "    sentences[i]=' '.join(words)'''"
   ]
  },
  {
   "cell_type": "code",
   "execution_count": 117,
   "id": "7ce21564",
   "metadata": {},
   "outputs": [
    {
     "data": {
      "text/plain": [
       "['Dr. Tejaswini Manogna is a remarkable Indian woman known for her multifaceted achievements as a doctor, classical dancer, yoga practitioner, and beauty queen.',\n",
       " 'Born in Hyderabad in 1994, she earned her medical degree from Osmania Medical College.',\n",
       " 'Early in life, she gained national recognition as the Best NCC Cadet and Best Shooter of India, representing the country at international events.',\n",
       " 'Alongside her academic and military accomplishments, she is a professionally trained Bharatanatyam dancer, having performed both nationally and internationally, including a performance before former President A.P.J.',\n",
       " 'Abdul Kalam.',\n",
       " 'She is also a certified yoga instructor, integrating physical wellness and mental discipline into her daily life.',\n",
       " 'In the world of pageantry, Tejaswini rose to fame as Miss Earth India 2019, representing the country at the international Miss Earth competition where she won several special awards.',\n",
       " 'Beyond her titles and talents, she is a passionate advocate for environmental protection, child welfare, and women’s empowerment, making her a symbol of beauty with brains and purpose.']"
      ]
     },
     "execution_count": 117,
     "metadata": {},
     "output_type": "execute_result"
    }
   ],
   "source": [
    "sentences"
   ]
  },
  {
   "cell_type": "code",
   "execution_count": 118,
   "id": "b072de21",
   "metadata": {},
   "outputs": [
    {
     "name": "stderr",
     "output_type": "stream",
     "text": [
      "[nltk_data] Downloading package wordnet to\n",
      "[nltk_data]     C:\\Users\\SHIVANI\\AppData\\Roaming\\nltk_data...\n",
      "[nltk_data]   Package wordnet is already up-to-date!\n",
      "[nltk_data] Downloading package omw-1.4 to\n",
      "[nltk_data]     C:\\Users\\SHIVANI\\AppData\\Roaming\\nltk_data...\n",
      "[nltk_data]   Package omw-1.4 is already up-to-date!\n"
     ]
    },
    {
     "data": {
      "text/plain": [
       "True"
      ]
     },
     "execution_count": 118,
     "metadata": {},
     "output_type": "execute_result"
    }
   ],
   "source": [
    "import nltk\n",
    "nltk.download('wordnet')\n",
    "nltk.download('omw-1.4') "
   ]
  },
  {
   "cell_type": "code",
   "execution_count": 119,
   "id": "5dd88bda",
   "metadata": {},
   "outputs": [],
   "source": [
    "from nltk.stem import WordNetLemmatizer\n",
    "from nltk.corpus import wordnet"
   ]
  },
  {
   "cell_type": "code",
   "execution_count": 120,
   "id": "3c94013e",
   "metadata": {},
   "outputs": [],
   "source": [
    "lemmatizer=WordNetLemmatizer()\n"
   ]
  },
  {
   "cell_type": "code",
   "execution_count": null,
   "id": "f50c333b",
   "metadata": {},
   "outputs": [],
   "source": [
    "## Apply Stopwords And Filter And then Apply Lemmatization\n",
    "#Process-Breaking the sentences into words and applying lemmatization only to the words that are not in the stop words and joining all the lemmas to make sentences \n",
    "\n",
    "for i in range(len(sentences)):\n",
    "    words=nltk.word_tokenize(sentences[i])\n",
    "    words=[lemmatizer.lemmatize(word.lower()) for word in words if word not in set(stopwords.words('english'))]\n",
    "    sentences[i]=' '.join(words)# converting all the list of words into sentences"
   ]
  },
  {
   "cell_type": "code",
   "execution_count": 123,
   "id": "9f154a0f",
   "metadata": {},
   "outputs": [
    {
     "data": {
      "text/plain": [
       "['dr. tejaswini manogna remarkable indian woman known multifaceted achievement doctor , classical dancer , yoga practitioner , beauty queen .',\n",
       " 'born hyderabad 1994 , earned medical degree osmania medical college .',\n",
       " 'early life , gained national recognition best ncc cadet best shooter india , representing country international event .',\n",
       " 'alongside academic military accomplishment , professionally trained bharatanatyam dancer , performed nationally internationally , including performance former president a.p.j .',\n",
       " 'abdul kalam .',\n",
       " 'she also certified yoga instructor , integrating physical wellness mental discipline daily life .',\n",
       " 'in world pageantry , tejaswini rose fame miss earth india 2019 , representing country international miss earth competition several special award .',\n",
       " 'beyond title talent , passionate advocate environmental protection , child welfare , woman ’ empowerment , making symbol beauty brain purpose .']"
      ]
     },
     "execution_count": 123,
     "metadata": {},
     "output_type": "execute_result"
    }
   ],
   "source": [
    "#Removed stop words from the paragraph\n",
    "sentences"
   ]
  }
 ],
 "metadata": {
  "kernelspec": {
   "display_name": "Python (my_env)",
   "language": "python",
   "name": "my_env"
  },
  "language_info": {
   "codemirror_mode": {
    "name": "ipython",
    "version": 3
   },
   "file_extension": ".py",
   "mimetype": "text/x-python",
   "name": "python",
   "nbconvert_exporter": "python",
   "pygments_lexer": "ipython3",
   "version": "3.10.18"
  }
 },
 "nbformat": 4,
 "nbformat_minor": 5
}
